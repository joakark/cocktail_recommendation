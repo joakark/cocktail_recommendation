{
 "cells": [
  {
   "cell_type": "markdown",
   "metadata": {
    "id": "OLfrAm4zIOdA"
   },
   "source": [
    "### In this notebook I am pulling cocktails and their ingredients from the web and create a simple algorithm that finds cocktails that are similar to each other based on their ingredients. The end goal is to create a cocktail recommendation engine."
   ]
  },
  {
   "cell_type": "markdown",
   "metadata": {
    "id": "yzzg6ARg5SP2"
   },
   "source": [
    "#### Step 1: Scrape a list of cocktails and their characteristics from the website cocktaildb.com. This website comes with a free API and there are a few different ways to hit this API. The one that I chose to use is *List all cocktails by first letter*. Details about the cocktaildb API can be found in this [link](https://www.thecocktaildb.com/api.php).\n"
   ]
  },
  {
   "cell_type": "code",
   "execution_count": 1,
   "metadata": {
    "collapsed": true,
    "id": "TDwI6aVqCpXj"
   },
   "outputs": [],
   "source": [
    "# import necassary libraries\n",
    "\n",
    "import pandas as pd\n",
    "import numpy as np\n",
    "\n",
    "import requests\n",
    "from requests.auth import HTTPBasicAuth\n",
    "import string\n",
    "import warnings\n",
    "import json\n",
    "\n",
    "warnings.filterwarnings(\"ignore\")\n",
    "\n",
    "from sklearn.feature_extraction.text import TfidfVectorizer\n",
    "from sklearn.metrics.pairwise import cosine_similarity\n",
    "\n",
    "import matplotlib.pyplot as plt\n",
    "%matplotlib inline\n",
    "\n",
    "import seaborn as sns"
   ]
  },
  {
   "cell_type": "code",
   "execution_count": 2,
   "metadata": {
    "collapsed": true,
    "id": "-4_GE0NHCpXl"
   },
   "outputs": [],
   "source": [
    "def get_url_list():\n",
    "\n",
    "    # gets the url for each potential first letter of a cocktail name - a,b,c.. 1,2,.. etc and stores them in a list\n",
    "\n",
    "    url_list = []\n",
    "    main_url = 'https://www.thecocktaildb.com/api/json/v1/1/search.php?f='\n",
    "\n",
    "    for i in string.printable:\n",
    "        url_list.append(main_url+i)\n",
    "\n",
    "    return url_list"
   ]
  },
  {
   "cell_type": "code",
   "execution_count": 3,
   "metadata": {
    "collapsed": true,
    "id": "OKJ1iaIiCpXl"
   },
   "outputs": [],
   "source": [
    "def scrape_cocktail_list():\n",
    "\n",
    "  # scrapes the information for a list of url's\n",
    "\n",
    "    cocktail_list = []\n",
    "    url_list = get_url_list()\n",
    "\n",
    "    for i in url_list:\n",
    "        try:\n",
    "            r = requests.get(i, verify=False)\n",
    "            cocktail_list.append(r.json())\n",
    "        except:\n",
    "            pass\n",
    "    return cocktail_list"
   ]
  },
  {
   "cell_type": "code",
   "execution_count": 4,
   "metadata": {
    "collapsed": true,
    "id": "FC6xo8DyEszr"
   },
   "outputs": [],
   "source": [
    "cocktail_list = scrape_cocktail_list()"
   ]
  },
  {
   "cell_type": "code",
   "execution_count": 5,
   "metadata": {
    "colab": {
     "base_uri": "https://localhost:8080/"
    },
    "id": "lhmoDWvVskTG",
    "outputId": "e2ff8021-9301-4cac-ed85-2d4c0ac41f5b"
   },
   "outputs": [
    {
     "data": {
      "text/plain": [
       "dict_keys(['idDrink', 'strDrink', 'strDrinkAlternate', 'strTags', 'strVideo', 'strCategory', 'strIBA', 'strAlcoholic', 'strGlass', 'strInstructions', 'strInstructionsES', 'strInstructionsDE', 'strInstructionsFR', 'strInstructionsIT', 'strInstructionsZH-HANS', 'strInstructionsZH-HANT', 'strDrinkThumb', 'strIngredient1', 'strIngredient2', 'strIngredient3', 'strIngredient4', 'strIngredient5', 'strIngredient6', 'strIngredient7', 'strIngredient8', 'strIngredient9', 'strIngredient10', 'strIngredient11', 'strIngredient12', 'strIngredient13', 'strIngredient14', 'strIngredient15', 'strMeasure1', 'strMeasure2', 'strMeasure3', 'strMeasure4', 'strMeasure5', 'strMeasure6', 'strMeasure7', 'strMeasure8', 'strMeasure9', 'strMeasure10', 'strMeasure11', 'strMeasure12', 'strMeasure13', 'strMeasure14', 'strMeasure15', 'strImageSource', 'strImageAttribution', 'strCreativeCommonsConfirmed', 'dateModified'])"
      ]
     },
     "execution_count": 5,
     "metadata": {},
     "output_type": "execute_result"
    }
   ],
   "source": [
    "# here are all the columns that might be available for each cocktail\n",
    "\n",
    "cocktail_list[1]['drinks'][0].keys()"
   ]
  },
  {
   "cell_type": "code",
   "execution_count": 15,
   "metadata": {},
   "outputs": [],
   "source": [
    "# create columns that show ingredients and their quantity\n",
    "\n",
    "for i in range(len(cocktail_list)):\n",
    "    try:\n",
    "        for j in range(len(cocktail_list[i]['drinks'])):\n",
    "            for k in range(1,16):\n",
    "                if cocktail_list[i]['drinks'][j]['strIngredient'+str(k)] is not None:\n",
    "                    try:\n",
    "                        cocktail_list[i]['drinks'][j]['ingredient_and_quantity'+str(k)] = cocktail_list[i]['drinks'][j]['strIngredient'+str(k)] + \" - \" + cocktail_list[i]['drinks'][j]['strMeasure'+str(k)]\n",
    "                    except:\n",
    "                        cocktail_list[i]['drinks'][j]['ingredient_and_quantity'+str(k)] = cocktail_list[i]['drinks'][j]['strIngredient'+str(k)] \n",
    "                else:\n",
    "                    cocktail_list[i]['drinks'][j]['ingredient_and_quantity'+str(k)] = None\n",
    "    except:\n",
    "        pass"
   ]
  },
  {
   "cell_type": "code",
   "execution_count": 16,
   "metadata": {
    "collapsed": true,
    "id": "YgrgUKyLFkJF"
   },
   "outputs": [],
   "source": [
    "def get_ingredients(cocktail_dict, col_name):\n",
    "\n",
    "  # pulls the ingredients of each cocktail (that are stored in 'strIngredient1', 'strIngredient2' etc) in one string\n",
    "\n",
    "    ingredient = cocktail_dict[col_name + '1']\n",
    "    i = 2\n",
    "\n",
    "    ingredient_list = \"\"\n",
    "\n",
    "    while ingredient:\n",
    "\n",
    "        ingredient_list = ingredient + \", \" + ingredient_list\n",
    "        ingredient = cocktail_dict[col_name + str(i)]\n",
    "\n",
    "        i = i+1\n",
    "\n",
    "    return ingredient_list"
   ]
  },
  {
   "cell_type": "code",
   "execution_count": 17,
   "metadata": {
    "collapsed": true,
    "id": "dUI3wqzMFlvX"
   },
   "outputs": [],
   "source": [
    "def cocktail_data_clean(cocktail_list):\n",
    "\n",
    "    # creates a list of dictionaries, one for each cocktail with the information of interest\n",
    "\n",
    "    cocktails_info = []\n",
    "\n",
    "    for i in range(len(cocktail_list)):\n",
    "        try:\n",
    "            for j in range(len(cocktail_list[i]['drinks'])):\n",
    "                cocktail = {}\n",
    "                cocktail['drink'] = cocktail_list[i]['drinks'][j]['strDrink']\n",
    "                cocktail['ingredients'] = get_ingredients(cocktail_list[i]['drinks'][j],'strIngredient')\n",
    "                cocktail['ingredients_and_quantities'] = get_ingredients(cocktail_list[i]['drinks'][j],'ingredient_and_quantity')\n",
    "                cocktail['instructions'] = cocktail_list[i]['drinks'][j]['strInstructions']\n",
    "\n",
    "                cocktails_info.append(cocktail)\n",
    "        except:\n",
    "            pass   #ignore cocktails for which there is no data\n",
    "\n",
    "    return cocktails_info"
   ]
  },
  {
   "cell_type": "code",
   "execution_count": 18,
   "metadata": {
    "colab": {
     "base_uri": "https://localhost:8080/"
    },
    "id": "oIg4G8TWHGhA",
    "outputId": "17896d89-1956-40e0-fcda-bb159974a0db"
   },
   "outputs": [
    {
     "data": {
      "text/plain": [
       "[{'drink': '110 in the shade',\n",
       "  'ingredients': 'Tequila, Lager, ',\n",
       "  'ingredients_and_quantities': 'Tequila - 1.5 oz , Lager - 16 oz , ',\n",
       "  'instructions': 'Drop shooter in glass. Fill with beer'},\n",
       " {'drink': '151 Florida Bushwacker',\n",
       "  'ingredients': 'Vanilla ice-cream, Coconut liqueur, Milk, Cointreau, Dark Creme de Cacao, 151 proof rum, Light rum, Malibu rum, ',\n",
       "  'ingredients_and_quantities': 'Vanilla ice-cream - 1 cup , Coconut liqueur - 1 oz , Milk - 3 oz , Cointreau - 1 oz , Dark Creme de Cacao - 1 oz , 151 proof rum - 1/2 oz Bacardi , Light rum - 1/2 oz , Malibu rum - 1/2 oz , ',\n",
       "  'instructions': 'Combine all ingredients. Blend until smooth. Garnish with chocolate shavings if desired.'}]"
      ]
     },
     "execution_count": 18,
     "metadata": {},
     "output_type": "execute_result"
    }
   ],
   "source": [
    "cocktails_info = cocktail_data_clean(cocktail_list)\n",
    "\n",
    "# get 2 cocktails as an example\n",
    "cocktails_info[2:4]"
   ]
  },
  {
   "cell_type": "markdown",
   "metadata": {
    "id": "0ETLAzyxDutp"
   },
   "source": [
    "#### Step 2: Find cocktail similarity using Tf-idf vectorizer and cosine similarity of the ingredients"
   ]
  },
  {
   "cell_type": "code",
   "execution_count": 19,
   "metadata": {
    "collapsed": true,
    "id": "PBWsMtMCCpXp"
   },
   "outputs": [],
   "source": [
    "cocktail_df = pd.DataFrame(cocktails_info)"
   ]
  },
  {
   "cell_type": "code",
   "execution_count": 20,
   "metadata": {},
   "outputs": [],
   "source": [
    "cocktail_df.drop_duplicates(inplace=True)"
   ]
  },
  {
   "cell_type": "code",
   "execution_count": 21,
   "metadata": {
    "colab": {
     "base_uri": "https://localhost:8080/",
     "height": 206
    },
    "id": "r58lwLrmCpXr",
    "outputId": "3bf32163-bb63-4211-9b53-4d64a81c74ec"
   },
   "outputs": [
    {
     "data": {
      "text/html": [
       "<div>\n",
       "<style>\n",
       "    .dataframe thead tr:only-child th {\n",
       "        text-align: right;\n",
       "    }\n",
       "\n",
       "    .dataframe thead th {\n",
       "        text-align: left;\n",
       "    }\n",
       "\n",
       "    .dataframe tbody tr th {\n",
       "        vertical-align: top;\n",
       "    }\n",
       "</style>\n",
       "<table border=\"1\" class=\"dataframe\">\n",
       "  <thead>\n",
       "    <tr style=\"text-align: right;\">\n",
       "      <th></th>\n",
       "      <th>drink</th>\n",
       "      <th>ingredients</th>\n",
       "      <th>ingredients_and_quantities</th>\n",
       "      <th>instructions</th>\n",
       "    </tr>\n",
       "  </thead>\n",
       "  <tbody>\n",
       "    <tr>\n",
       "      <th>0</th>\n",
       "      <td>155 Belmont</td>\n",
       "      <td>Orange juice, Vodka, Light rum, Dark rum,</td>\n",
       "      <td>Orange juice - 1 shot , Vodka - 1 shot , Light...</td>\n",
       "      <td>Blend with ice. Serve in a wine glass. Garnish...</td>\n",
       "    </tr>\n",
       "    <tr>\n",
       "      <th>1</th>\n",
       "      <td>1-900-FUK-MEUP</td>\n",
       "      <td>Pineapple juice, Cranberry juice, Amaretto, Ma...</td>\n",
       "      <td>Pineapple juice - 1/4 oz , Cranberry juice - 1...</td>\n",
       "      <td>Shake ingredients in a mixing tin filled with ...</td>\n",
       "    </tr>\n",
       "    <tr>\n",
       "      <th>2</th>\n",
       "      <td>110 in the shade</td>\n",
       "      <td>Tequila, Lager,</td>\n",
       "      <td>Tequila - 1.5 oz , Lager - 16 oz ,</td>\n",
       "      <td>Drop shooter in glass. Fill with beer</td>\n",
       "    </tr>\n",
       "    <tr>\n",
       "      <th>3</th>\n",
       "      <td>151 Florida Bushwacker</td>\n",
       "      <td>Vanilla ice-cream, Coconut liqueur, Milk, Coin...</td>\n",
       "      <td>Vanilla ice-cream - 1 cup , Coconut liqueur - ...</td>\n",
       "      <td>Combine all ingredients. Blend until smooth. G...</td>\n",
       "    </tr>\n",
       "    <tr>\n",
       "      <th>4</th>\n",
       "      <td>252</td>\n",
       "      <td>Wild Turkey, 151 proof rum,</td>\n",
       "      <td>Wild Turkey - 1/2 shot , 151 proof rum - 1/2 s...</td>\n",
       "      <td>Add both ingredients to shot glass, shoot, and...</td>\n",
       "    </tr>\n",
       "  </tbody>\n",
       "</table>\n",
       "</div>"
      ],
      "text/plain": [
       "                    drink                                        ingredients  \\\n",
       "0             155 Belmont         Orange juice, Vodka, Light rum, Dark rum,    \n",
       "1          1-900-FUK-MEUP  Pineapple juice, Cranberry juice, Amaretto, Ma...   \n",
       "2        110 in the shade                                   Tequila, Lager,    \n",
       "3  151 Florida Bushwacker  Vanilla ice-cream, Coconut liqueur, Milk, Coin...   \n",
       "4                     252                       Wild Turkey, 151 proof rum,    \n",
       "\n",
       "                          ingredients_and_quantities  \\\n",
       "0  Orange juice - 1 shot , Vodka - 1 shot , Light...   \n",
       "1  Pineapple juice - 1/4 oz , Cranberry juice - 1...   \n",
       "2                Tequila - 1.5 oz , Lager - 16 oz ,    \n",
       "3  Vanilla ice-cream - 1 cup , Coconut liqueur - ...   \n",
       "4  Wild Turkey - 1/2 shot , 151 proof rum - 1/2 s...   \n",
       "\n",
       "                                        instructions  \n",
       "0  Blend with ice. Serve in a wine glass. Garnish...  \n",
       "1  Shake ingredients in a mixing tin filled with ...  \n",
       "2              Drop shooter in glass. Fill with beer  \n",
       "3  Combine all ingredients. Blend until smooth. G...  \n",
       "4  Add both ingredients to shot glass, shoot, and...  "
      ]
     },
     "execution_count": 21,
     "metadata": {},
     "output_type": "execute_result"
    }
   ],
   "source": [
    "cocktail_df.head()"
   ]
  },
  {
   "cell_type": "code",
   "execution_count": 23,
   "metadata": {
    "collapsed": true,
    "id": "ernfVZBwCpXw"
   },
   "outputs": [],
   "source": [
    "def similar_cocktail(cocktail_df, chosen_cocktail):\n",
    "\n",
    "    # string pre-processing\n",
    "    cocktail_df['ingredients'] = cocktail_df['ingredients'].str.lower().str.replace('[^\\w\\s]','')\n",
    "\n",
    "    # implement tf-idf vectorizer\n",
    "    vectorizer = TfidfVectorizer()\n",
    "    X = vectorizer.fit_transform(cocktail_df['ingredients'])\n",
    "    arr = X.toarray()\n",
    "\n",
    "    similarity_table = pd.DataFrame(cosine_similarity(arr), columns=cocktail_df['drink'], index=cocktail_df['drink'])\n",
    "    \n",
    "    for column in similarity_table.columns:\n",
    "            similarity_table[column] = np.where(similarity_table[column] >= 1, 0, similarity_table[column])\n",
    "        \n",
    "    similar_cocktail= similarity_table.idxmax()\n",
    "\n",
    "    new_cocktail = similar_cocktail[chosen_cocktail]\n",
    "\n",
    "    return new_cocktail"
   ]
  },
  {
   "cell_type": "code",
   "execution_count": 24,
   "metadata": {
    "colab": {
     "base_uri": "https://localhost:8080/",
     "height": 36
    },
    "id": "eFnX4pyVCpXw",
    "outputId": "5afcb621-de33-4668-e37a-807f9062db28"
   },
   "outputs": [],
   "source": [
    "# test 1 cocktail\n",
    "\n",
    "new_cocktail = similar_cocktail(cocktail_df, 'A1')"
   ]
  },
  {
   "cell_type": "code",
   "execution_count": 25,
   "metadata": {},
   "outputs": [
    {
     "data": {
      "text/plain": [
       "'Talos Coffee'"
      ]
     },
     "execution_count": 25,
     "metadata": {},
     "output_type": "execute_result"
    }
   ],
   "source": [
    "new_cocktail"
   ]
  },
  {
   "cell_type": "markdown",
   "metadata": {
    "id": "XB1BZd57CnT9"
   },
   "source": [
    "#### Quick exploration of the data"
   ]
  },
  {
   "cell_type": "code",
   "execution_count": 26,
   "metadata": {
    "colab": {
     "base_uri": "https://localhost:8080/",
     "height": 175
    },
    "id": "BC6jb0s7DTyx",
    "outputId": "730d9e5f-4911-4d99-8adb-50a43b95a79a"
   },
   "outputs": [
    {
     "data": {
      "text/html": [
       "<div>\n",
       "<style>\n",
       "    .dataframe thead tr:only-child th {\n",
       "        text-align: right;\n",
       "    }\n",
       "\n",
       "    .dataframe thead th {\n",
       "        text-align: left;\n",
       "    }\n",
       "\n",
       "    .dataframe tbody tr th {\n",
       "        vertical-align: top;\n",
       "    }\n",
       "</style>\n",
       "<table border=\"1\" class=\"dataframe\">\n",
       "  <thead>\n",
       "    <tr style=\"text-align: right;\">\n",
       "      <th></th>\n",
       "      <th>drink</th>\n",
       "      <th>ingredients</th>\n",
       "      <th>ingredients_and_quantities</th>\n",
       "      <th>instructions</th>\n",
       "    </tr>\n",
       "  </thead>\n",
       "  <tbody>\n",
       "    <tr>\n",
       "      <th>count</th>\n",
       "      <td>441</td>\n",
       "      <td>441</td>\n",
       "      <td>441</td>\n",
       "      <td>441</td>\n",
       "    </tr>\n",
       "    <tr>\n",
       "      <th>unique</th>\n",
       "      <td>441</td>\n",
       "      <td>437</td>\n",
       "      <td>439</td>\n",
       "      <td>406</td>\n",
       "    </tr>\n",
       "    <tr>\n",
       "      <th>top</th>\n",
       "      <td>Gin Rickey</td>\n",
       "      <td>champagne creme de cassis</td>\n",
       "      <td>Olive - 1 , Dry Vermouth - 1/3 oz , Gin - 1 2/...</td>\n",
       "      <td>Shake all ingredients with ice, strain into a ...</td>\n",
       "    </tr>\n",
       "    <tr>\n",
       "      <th>freq</th>\n",
       "      <td>1</td>\n",
       "      <td>2</td>\n",
       "      <td>2</td>\n",
       "      <td>12</td>\n",
       "    </tr>\n",
       "  </tbody>\n",
       "</table>\n",
       "</div>"
      ],
      "text/plain": [
       "             drink                 ingredients  \\\n",
       "count          441                         441   \n",
       "unique         441                         437   \n",
       "top     Gin Rickey  champagne creme de cassis    \n",
       "freq             1                           2   \n",
       "\n",
       "                               ingredients_and_quantities  \\\n",
       "count                                                 441   \n",
       "unique                                                439   \n",
       "top     Olive - 1 , Dry Vermouth - 1/3 oz , Gin - 1 2/...   \n",
       "freq                                                    2   \n",
       "\n",
       "                                             instructions  \n",
       "count                                                 441  \n",
       "unique                                                406  \n",
       "top     Shake all ingredients with ice, strain into a ...  \n",
       "freq                                                   12  "
      ]
     },
     "execution_count": 26,
     "metadata": {},
     "output_type": "execute_result"
    }
   ],
   "source": [
    "cocktail_df.describe()"
   ]
  },
  {
   "cell_type": "code",
   "execution_count": 27,
   "metadata": {
    "colab": {
     "base_uri": "https://localhost:8080/",
     "height": 363
    },
    "id": "JA9_bIhoCBcI",
    "outputId": "abe906ca-9cfa-410f-ddc9-1f9f56cf78de"
   },
   "outputs": [
    {
     "data": {
      "text/html": [
       "<div>\n",
       "<style>\n",
       "    .dataframe thead tr:only-child th {\n",
       "        text-align: right;\n",
       "    }\n",
       "\n",
       "    .dataframe thead th {\n",
       "        text-align: left;\n",
       "    }\n",
       "\n",
       "    .dataframe tbody tr th {\n",
       "        vertical-align: top;\n",
       "    }\n",
       "</style>\n",
       "<table border=\"1\" class=\"dataframe\">\n",
       "  <thead>\n",
       "    <tr style=\"text-align: right;\">\n",
       "      <th></th>\n",
       "      <th>ingredient</th>\n",
       "      <th>frequency</th>\n",
       "    </tr>\n",
       "  </thead>\n",
       "  <tbody>\n",
       "    <tr>\n",
       "      <th>0</th>\n",
       "      <td>juice</td>\n",
       "      <td>195</td>\n",
       "    </tr>\n",
       "    <tr>\n",
       "      <th>1</th>\n",
       "      <td>lemon</td>\n",
       "      <td>116</td>\n",
       "    </tr>\n",
       "    <tr>\n",
       "      <th>2</th>\n",
       "      <td>rum</td>\n",
       "      <td>96</td>\n",
       "    </tr>\n",
       "    <tr>\n",
       "      <th>3</th>\n",
       "      <td>sugar</td>\n",
       "      <td>95</td>\n",
       "    </tr>\n",
       "    <tr>\n",
       "      <th>4</th>\n",
       "      <td>gin</td>\n",
       "      <td>87</td>\n",
       "    </tr>\n",
       "    <tr>\n",
       "      <th>5</th>\n",
       "      <td>orange</td>\n",
       "      <td>84</td>\n",
       "    </tr>\n",
       "    <tr>\n",
       "      <th>6</th>\n",
       "      <td>vodka</td>\n",
       "      <td>76</td>\n",
       "    </tr>\n",
       "    <tr>\n",
       "      <th>7</th>\n",
       "      <td>lime</td>\n",
       "      <td>67</td>\n",
       "    </tr>\n",
       "    <tr>\n",
       "      <th>8</th>\n",
       "      <td>water</td>\n",
       "      <td>67</td>\n",
       "    </tr>\n",
       "    <tr>\n",
       "      <th>9</th>\n",
       "      <td>cream</td>\n",
       "      <td>48</td>\n",
       "    </tr>\n",
       "  </tbody>\n",
       "</table>\n",
       "</div>"
      ],
      "text/plain": [
       "  ingredient  frequency\n",
       "0      juice        195\n",
       "1      lemon        116\n",
       "2        rum         96\n",
       "3      sugar         95\n",
       "4        gin         87\n",
       "5     orange         84\n",
       "6      vodka         76\n",
       "7       lime         67\n",
       "8      water         67\n",
       "9      cream         48"
      ]
     },
     "execution_count": 27,
     "metadata": {},
     "output_type": "execute_result"
    }
   ],
   "source": [
    "new_df = cocktail_df.ingredients.str.split(expand=True).stack().value_counts().reset_index()\n",
    "new_df.columns = ['ingredient', 'frequency']\n",
    "\n",
    "# get the 10  most commonly used ingredients\n",
    "new_df.head(10)"
   ]
  },
  {
   "cell_type": "code",
   "execution_count": null,
   "metadata": {
    "collapsed": true,
    "id": "M1Qkc8nIGYGr"
   },
   "outputs": [],
   "source": []
  },
  {
   "cell_type": "markdown",
   "metadata": {
    "id": "mCtSPFWCCpYB"
   },
   "source": [
    "#### Experimenting with pickling the model file for deployment (optional)"
   ]
  },
  {
   "cell_type": "code",
   "execution_count": 28,
   "metadata": {
    "collapsed": true,
    "id": "up9V6nQRCpYE"
   },
   "outputs": [],
   "source": [
    "import pickle"
   ]
  },
  {
   "cell_type": "code",
   "execution_count": 29,
   "metadata": {
    "collapsed": true,
    "id": "zeEmaodaCpYG"
   },
   "outputs": [],
   "source": [
    "pickle.dump(similar_cocktail, open('similar_cocktail.pkl','wb'))"
   ]
  },
  {
   "cell_type": "code",
   "execution_count": 30,
   "metadata": {
    "collapsed": true,
    "id": "dEyBg5kYmteP"
   },
   "outputs": [],
   "source": [
    "pickle.dump(cocktail_df, open('cocktail_df.pkl','wb'))"
   ]
  },
  {
   "cell_type": "code",
   "execution_count": 31,
   "metadata": {
    "collapsed": true,
    "id": "iUxF6IHHCpYG"
   },
   "outputs": [],
   "source": [
    "similar_cocktail = pickle.load(open('similar_cocktail.pkl','rb'))"
   ]
  },
  {
   "cell_type": "code",
   "execution_count": 32,
   "metadata": {
    "collapsed": true,
    "id": "JG7rqfVem5hm"
   },
   "outputs": [],
   "source": [
    "cocktail_df = pickle.load(open('cocktail_df.pkl','rb'))"
   ]
  },
  {
   "cell_type": "code",
   "execution_count": 33,
   "metadata": {
    "colab": {
     "base_uri": "https://localhost:8080/",
     "height": 36
    },
    "id": "FDSr56jTCpYH",
    "outputId": "28367345-a5e3-4ecb-bf78-7943fd8dbbb9"
   },
   "outputs": [
    {
     "data": {
      "text/plain": [
       "'Talos Coffee'"
      ]
     },
     "execution_count": 33,
     "metadata": {},
     "output_type": "execute_result"
    }
   ],
   "source": [
    "similar_cocktail(cocktail_df, 'A1')"
   ]
  },
  {
   "cell_type": "code",
   "execution_count": null,
   "metadata": {
    "collapsed": true,
    "id": "hmBg8YzTCpYH"
   },
   "outputs": [],
   "source": []
  },
  {
   "cell_type": "code",
   "execution_count": null,
   "metadata": {
    "collapsed": true
   },
   "outputs": [],
   "source": []
  }
 ],
 "metadata": {
  "colab": {
   "provenance": []
  },
  "kernelspec": {
   "display_name": "Python 3",
   "language": "python",
   "name": "python3"
  },
  "language_info": {
   "codemirror_mode": {
    "name": "ipython",
    "version": 3
   },
   "file_extension": ".py",
   "mimetype": "text/x-python",
   "name": "python",
   "nbconvert_exporter": "python",
   "pygments_lexer": "ipython3",
   "version": "3.6.2"
  }
 },
 "nbformat": 4,
 "nbformat_minor": 1
}
